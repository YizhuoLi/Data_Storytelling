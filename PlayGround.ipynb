{
 "cells": [
  {
   "cell_type": "markdown",
   "metadata": {},
   "source": [
    "Not sure if you are aware (and apologies in advance if you are, but perhaps this might help someone else), but there are very specific rules governing which player positions are allowed to wear which jersey numbers. Broadly, the \"bigger\" guys tend to occupy positions that are obligated to wear larger uniform numbers. In other words, not surprising that there is a correlation between PlayerWeight and JerseyNumber.  \n",
    "\n",
    "\n",
    "\n",
    "https://en.wikipedia.org/wiki/Uniform_number_(American_football)  \n",
    "\n",
    "This is really awesome work and hugely beneficial to someone like myself who is just starting out in DS and trying to better understand EDA and feature engineering. Much appreciated and obviously upvoted."
   ]
  },
  {
   "cell_type": "code",
   "execution_count": null,
   "metadata": {},
   "outputs": [],
   "source": [
    "def convert_jn_to_position(df):\n",
    "        jn = df['JerseyNumber']\n",
    "        if jn < 10:\n",
    "            df['QB'] = 1\n",
    "            df['KP'] = 1\n",
    "        elif jn >= 10 and jn < 20:\n",
    "            df['QB'] = 1\n",
    "            df['WR'] = 1\n",
    "            df['KP'] = 1\n",
    "        elif jn >= 20 and jn < 40:\n",
    "            df['RB'] = 1\n",
    "            df['DB'] = 1\n",
    "        elif jn >= 40 and jn < 50:\n",
    "            df['RB'] = 1\n",
    "            df['LB'] = 1\n",
    "            df['DB'] = 1\n",
    "            df['TE'] = 1\n",
    "        elif jn >= 50 and jn < 60:\n",
    "            df['OL'] = 1\n",
    "            df['DL'] = 1\n",
    "            df['LB'] = 1\n",
    "        elif jn >= 60 and jn < 80:\n",
    "            df['OL'] = 1\n",
    "            df['DL'] = 1\n",
    "        elif jn >= 80 and jn < 90:\n",
    "            df['WR'] = 1\n",
    "            df['TE'] = 1\n",
    "        elif jn >= 90 and jn < 100:\n",
    "            df['DL'] = 1\n",
    "            df['LB'] = 1\n",
    "\n",
    "        return df\n",
    "\n",
    "    l = ['QB', 'KP', 'WR', 'RB', 'DB', 'LB', 'DB', 'TE', 'OL', 'DL']\n",
    "    d = dict.fromkeys(l, 0)\n",
    "    train_df = train_df.assign(**d).apply(convert_jn_to_position, axis=1)"
   ]
  }
 ],
 "metadata": {
  "kernelspec": {
   "display_name": "Python 3",
   "language": "python",
   "name": "python3"
  },
  "language_info": {
   "codemirror_mode": {
    "name": "ipython",
    "version": 3
   },
   "file_extension": ".py",
   "mimetype": "text/x-python",
   "name": "python",
   "nbconvert_exporter": "python",
   "pygments_lexer": "ipython3",
   "version": "3.6.8"
  },
  "toc": {
   "base_numbering": 1,
   "nav_menu": {},
   "number_sections": true,
   "sideBar": true,
   "skip_h1_title": false,
   "title_cell": "Table of Contents",
   "title_sidebar": "Contents",
   "toc_cell": false,
   "toc_position": {},
   "toc_section_display": true,
   "toc_window_display": false
  },
  "varInspector": {
   "cols": {
    "lenName": 16,
    "lenType": 16,
    "lenVar": 40
   },
   "kernels_config": {
    "python": {
     "delete_cmd_postfix": "",
     "delete_cmd_prefix": "del ",
     "library": "var_list.py",
     "varRefreshCmd": "print(var_dic_list())"
    },
    "r": {
     "delete_cmd_postfix": ") ",
     "delete_cmd_prefix": "rm(",
     "library": "var_list.r",
     "varRefreshCmd": "cat(var_dic_list()) "
    }
   },
   "types_to_exclude": [
    "module",
    "function",
    "builtin_function_or_method",
    "instance",
    "_Feature"
   ],
   "window_display": false
  }
 },
 "nbformat": 4,
 "nbformat_minor": 2
}
