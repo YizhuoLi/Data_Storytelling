{
 "cells": [
  {
   "cell_type": "code",
   "execution_count": 1,
   "metadata": {
    "ExecuteTime": {
     "end_time": "2019-12-04T17:00:15.712758Z",
     "start_time": "2019-12-04T17:00:13.072848Z"
    }
   },
   "outputs": [],
   "source": [
    "import numpy as np\n",
    "import pandas as pd\n",
    "import matplotlib.pyplot as plt\n",
    "import matplotlib as mpl\n",
    "import seaborn as sns\n",
    "import datetime\n",
    "# from kaggle.competitions import nflrush\n",
    "import tqdm\n",
    "import re\n",
    "from string import punctuation\n",
    "# from sklearn.ensemble import RandomForestRegressor\n",
    "# from sklearn.preprocessing import StandardScaler\n",
    "# import keras\n",
    "# from keras.callbacks import ReduceLROnPlateau, ModelCheckpoint, EarlyStopping\n",
    "# from keras.utils import plot_model\n",
    "# import keras.backend as K\n",
    "# import tensorflow as tf\n",
    "\n",
    "sns.set_style('darkgrid')\n",
    "mpl.rcParams['figure.figsize'] = [15,10]"
   ]
  },
  {
   "cell_type": "code",
   "execution_count": 2,
   "metadata": {
    "ExecuteTime": {
     "end_time": "2019-12-04T17:00:21.060606Z",
     "start_time": "2019-12-04T17:00:15.746907Z"
    }
   },
   "outputs": [],
   "source": [
    "train = pd.read_csv('train.csv', low_memory=False)"
   ]
  },
  {
   "cell_type": "code",
   "execution_count": 3,
   "metadata": {
    "ExecuteTime": {
     "end_time": "2019-12-04T17:00:21.806380Z",
     "start_time": "2019-12-04T17:00:21.787081Z"
    }
   },
   "outputs": [],
   "source": [
    "#from https://www.kaggle.com/prashantkikani/nfl-starter-lgb-feature-engg\n",
    "train['DefendersInTheBox_vs_Distance'] = train['DefendersInTheBox'] / train['Distance']"
   ]
  },
  {
   "cell_type": "code",
   "execution_count": 4,
   "metadata": {
    "ExecuteTime": {
     "end_time": "2019-12-04T17:00:22.943619Z",
     "start_time": "2019-12-04T17:00:22.543886Z"
    }
   },
   "outputs": [],
   "source": [
    "cat_features = []\n",
    "for col in train.columns:\n",
    "    if train[col].dtype =='object':\n",
    "        cat_features.append((col, len(train[col].unique())))"
   ]
  },
  {
   "cell_type": "code",
   "execution_count": 5,
   "metadata": {
    "ExecuteTime": {
     "end_time": "2019-12-04T17:00:23.681175Z",
     "start_time": "2019-12-04T17:00:23.674555Z"
    }
   },
   "outputs": [
    {
     "data": {
      "text/plain": [
       "[('Team', 2),\n",
       " ('DisplayName', 2230),\n",
       " ('GameClock', 901),\n",
       " ('PossessionTeam', 32),\n",
       " ('FieldPosition', 33),\n",
       " ('OffenseFormation', 9),\n",
       " ('OffensePersonnel', 56),\n",
       " ('DefensePersonnel', 38),\n",
       " ('PlayDirection', 2),\n",
       " ('TimeHandoff', 22935),\n",
       " ('TimeSnap', 22943),\n",
       " ('PlayerHeight', 16),\n",
       " ('PlayerBirthDate', 1688),\n",
       " ('PlayerCollegeName', 301),\n",
       " ('Position', 25),\n",
       " ('HomeTeamAbbr', 32),\n",
       " ('VisitorTeamAbbr', 32),\n",
       " ('Stadium', 55),\n",
       " ('Location', 60),\n",
       " ('StadiumType', 30),\n",
       " ('Turf', 20),\n",
       " ('GameWeather', 62),\n",
       " ('WindSpeed', 41),\n",
       " ('WindDirection', 54)]"
      ]
     },
     "execution_count": 5,
     "metadata": {},
     "output_type": "execute_result"
    }
   ],
   "source": [
    "cat_features"
   ]
  },
  {
   "cell_type": "markdown",
   "metadata": {},
   "source": [
    "## Stadium Type"
   ]
  },
  {
   "cell_type": "code",
   "execution_count": 6,
   "metadata": {
    "ExecuteTime": {
     "end_time": "2019-12-04T17:00:24.434328Z",
     "start_time": "2019-12-04T17:00:24.429295Z"
    }
   },
   "outputs": [],
   "source": [
    "def clean_StadiumType(txt):\n",
    "    if pd.isna(txt):\n",
    "        return np.nan\n",
    "    txt = txt.lower()\n",
    "    txt = ''.join([c for c in txt if c not in punctuation])\n",
    "    txt = re.sub(' +', ' ', txt)\n",
    "    txt = txt.strip()\n",
    "    txt = txt.replace('outside', 'outdoor')\n",
    "    txt = txt.replace('outdor', 'outdoor')\n",
    "    txt = txt.replace('outddors', 'outdoor')\n",
    "    txt = txt.replace('outdoors', 'outdoor')\n",
    "    txt = txt.replace('oudoor', 'outdoor')\n",
    "    txt = txt.replace('indoors', 'indoor')\n",
    "    txt = txt.replace('ourdoor', 'outdoor')\n",
    "    txt = txt.replace('retractable', 'rtr.')\n",
    "    return txt"
   ]
  },
  {
   "cell_type": "code",
   "execution_count": 7,
   "metadata": {
    "ExecuteTime": {
     "end_time": "2019-12-04T17:00:26.866079Z",
     "start_time": "2019-12-04T17:00:25.179490Z"
    }
   },
   "outputs": [],
   "source": [
    "train['StadiumType'] = train['StadiumType'].apply(clean_StadiumType)"
   ]
  },
  {
   "cell_type": "code",
   "execution_count": 8,
   "metadata": {
    "ExecuteTime": {
     "end_time": "2019-12-04T17:00:27.663485Z",
     "start_time": "2019-12-04T17:00:27.659743Z"
    }
   },
   "outputs": [],
   "source": [
    "def transform_StadiumType(txt):\n",
    "    if pd.isna(txt):\n",
    "        return np.nan\n",
    "    if 'outdoor' in txt or 'open' in txt:\n",
    "        return 'outdoor'\n",
    "    if 'indoor' in txt or 'closed' in txt:\n",
    "        return 'indoor'\n",
    "    \n",
    "    return np.nan"
   ]
  },
  {
   "cell_type": "code",
   "execution_count": 9,
   "metadata": {
    "ExecuteTime": {
     "end_time": "2019-12-04T17:00:28.660108Z",
     "start_time": "2019-12-04T17:00:28.408414Z"
    }
   },
   "outputs": [],
   "source": [
    "train['StadiumType'] = train['StadiumType'].apply(transform_StadiumType)"
   ]
  },
  {
   "cell_type": "code",
   "execution_count": 10,
   "metadata": {
    "ExecuteTime": {
     "end_time": "2019-12-04T17:00:29.425006Z",
     "start_time": "2019-12-04T17:00:29.405098Z"
    }
   },
   "outputs": [
    {
     "data": {
      "text/plain": [
       "array(['outdoor', 'indoor', nan], dtype=object)"
      ]
     },
     "execution_count": 10,
     "metadata": {},
     "output_type": "execute_result"
    }
   ],
   "source": [
    "train['StadiumType'].unique()"
   ]
  },
  {
   "cell_type": "markdown",
   "metadata": {},
   "source": [
    "## Turf"
   ]
  },
  {
   "cell_type": "code",
   "execution_count": 11,
   "metadata": {
    "ExecuteTime": {
     "end_time": "2019-12-04T17:00:30.167649Z",
     "start_time": "2019-12-04T17:00:30.110208Z"
    }
   },
   "outputs": [],
   "source": [
    "#from https://www.kaggle.com/c/nfl-big-data-bowl-2020/discussion/112681#latest-649087\n",
    "Turf = {'Field Turf':'Artificial', 'A-Turf Titan':'Artificial', 'Grass':'Natural', 'UBU Sports Speed S5-M':'Artificial', \n",
    "        'Artificial':'Artificial', 'DD GrassMaster':'Artificial', 'Natural Grass':'Natural', \n",
    "        'UBU Speed Series-S5-M':'Artificial', 'FieldTurf':'Artificial', 'FieldTurf 360':'Artificial', 'Natural grass':'Natural', 'grass':'Natural', \n",
    "        'Natural':'Natural', 'Artifical':'Artificial', 'FieldTurf360':'Artificial', 'Naturall Grass':'Natural', 'Field turf':'Artificial', \n",
    "        'SISGrass':'Artificial', 'Twenty-Four/Seven Turf':'Artificial', 'natural grass':'Natural'} \n",
    "\n",
    "train['Turf'] = train['Turf'].map(Turf)\n",
    "# train['Turf'] = train['Turf'] == 'Natural'"
   ]
  },
  {
   "cell_type": "code",
   "execution_count": 12,
   "metadata": {
    "ExecuteTime": {
     "end_time": "2019-12-04T17:00:30.862366Z",
     "start_time": "2019-12-04T17:00:30.842167Z"
    }
   },
   "outputs": [
    {
     "data": {
      "text/plain": [
       "array(['Artificial', 'Natural'], dtype=object)"
      ]
     },
     "execution_count": 12,
     "metadata": {},
     "output_type": "execute_result"
    }
   ],
   "source": [
    "train['Turf'].unique()"
   ]
  },
  {
   "cell_type": "markdown",
   "metadata": {},
   "source": [
    "## Game Clock"
   ]
  },
  {
   "cell_type": "code",
   "execution_count": 13,
   "metadata": {
    "ExecuteTime": {
     "end_time": "2019-12-04T17:00:31.575362Z",
     "start_time": "2019-12-04T17:00:31.571558Z"
    }
   },
   "outputs": [],
   "source": [
    "def strtoseconds(txt):\n",
    "    txt = txt.split(':')\n",
    "    ans = int(txt[0])*60 + int(txt[1]) + int(txt[2])/60\n",
    "    return ans"
   ]
  },
  {
   "cell_type": "code",
   "execution_count": 14,
   "metadata": {
    "ExecuteTime": {
     "end_time": "2019-12-04T17:00:32.980370Z",
     "start_time": "2019-12-04T17:00:32.240259Z"
    }
   },
   "outputs": [],
   "source": [
    "train['GameClock'] = train['GameClock'].apply(strtoseconds)"
   ]
  },
  {
   "cell_type": "code",
   "execution_count": 15,
   "metadata": {
    "ExecuteTime": {
     "end_time": "2019-12-04T17:00:34.036109Z",
     "start_time": "2019-12-04T17:00:33.721836Z"
    }
   },
   "outputs": [
    {
     "data": {
      "text/plain": [
       "<matplotlib.axes._subplots.AxesSubplot at 0x1a260821d0>"
      ]
     },
     "execution_count": 15,
     "metadata": {},
     "output_type": "execute_result"
    },
    {
     "data": {
      "image/png": "[encoded data removed]",
      "text/plain": [
       "<Figure size 432x288 with 1 Axes>"
      ]
     },
     "metadata": {
      "needs_background": "light"
     },
     "output_type": "display_data"
    }
   ],
   "source": [
    "sns.distplot(train['GameClock'])"
   ]
  },
  {
   "cell_type": "markdown",
   "metadata": {},
   "source": [
    "## Weight"
   ]
  },
  {
   "cell_type": "code",
   "execution_count": 28,
   "metadata": {
    "ExecuteTime": {
     "end_time": "2019-12-04T17:05:46.597708Z",
     "start_time": "2019-12-04T17:05:43.950696Z"
    }
   },
   "outputs": [],
   "source": [
    "df_player = train.loc[:,['Season', 'NflId', 'DisplayName', 'PlayerWeight', 'PlayerHeight', 'PlayerCollegeName', 'PlayerAge_int', 'PlayerAge']].drop_duplicates()\n",
    "\n",
    "df_player[\"HeightFt\"] = df_player[\"PlayerHeight\"].str.split('-', expand=True)[0].astype(int)\n",
    "df_player[\"HeightIn\"] = df_player[\"PlayerHeight\"].str.split('-', expand=True)[1].astype(int)\n",
    "df_player[\"HeightCm\"] = df_player[\"HeightFt\"]*30.48 + df_player[\"HeightIn\"]*2.54\n",
    "\n",
    "df_player[\"WeightKg\"] = df_player[\"PlayerWeight\"]*0.45359237"
   ]
  },
  {
   "cell_type": "code",
   "execution_count": 29,
   "metadata": {
    "ExecuteTime": {
     "end_time": "2019-12-04T17:05:47.812975Z",
     "start_time": "2019-12-04T17:05:47.349860Z"
    }
   },
   "outputs": [],
   "source": [
    "df_player['PlayerHeight'] = df_player['PlayerHeight'].apply(lambda x: 12*int(x.split('-')[0])+int(x.split('-')[1]))\n",
    "df_player['PlayerBMI'] = 703*(df_player['PlayerWeight']/(df_player['PlayerHeight'])**2)"
   ]
  },
  {
   "cell_type": "code",
   "execution_count": 30,
   "metadata": {
    "ExecuteTime": {
     "end_time": "2019-12-04T17:05:48.578280Z",
     "start_time": "2019-12-04T17:05:48.564890Z"
    }
   },
   "outputs": [
    {
     "data": {
      "text/html": [
       "<div>\n",
       "<style scoped>\n",
       "    .dataframe tbody tr th:only-of-type {\n",
       "        vertical-align: middle;\n",
       "    }\n",
       "\n",
       "    .dataframe tbody tr th {\n",
       "        vertical-align: top;\n",
       "    }\n",
       "\n",
       "    .dataframe thead th {\n",
       "        text-align: right;\n",
       "    }\n",
       "</style>\n",
       "<table border=\"1\" class=\"dataframe\">\n",
       "  <thead>\n",
       "    <tr style=\"text-align: right;\">\n",
       "      <th></th>\n",
       "      <th>Season</th>\n",
       "      <th>NflId</th>\n",
       "      <th>DisplayName</th>\n",
       "      <th>PlayerWeight</th>\n",
       "      <th>PlayerHeight</th>\n",
       "      <th>PlayerCollegeName</th>\n",
       "      <th>PlayerAge_int</th>\n",
       "      <th>PlayerAge</th>\n",
       "      <th>HeightFt</th>\n",
       "      <th>HeightIn</th>\n",
       "      <th>HeightCm</th>\n",
       "      <th>WeightKg</th>\n",
       "      <th>PlayerBMI</th>\n",
       "    </tr>\n",
       "  </thead>\n",
       "  <tbody>\n",
       "    <tr>\n",
       "      <th>0</th>\n",
       "      <td>2017</td>\n",
       "      <td>496723</td>\n",
       "      <td>Eric Berry</td>\n",
       "      <td>212</td>\n",
       "      <td>72</td>\n",
       "      <td>Tennessee</td>\n",
       "      <td>28</td>\n",
       "      <td>28.692760</td>\n",
       "      <td>6</td>\n",
       "      <td>0</td>\n",
       "      <td>182.88</td>\n",
       "      <td>96.161582</td>\n",
       "      <td>28.749228</td>\n",
       "    </tr>\n",
       "    <tr>\n",
       "      <th>1</th>\n",
       "      <td>2017</td>\n",
       "      <td>2495116</td>\n",
       "      <td>Allen Bailey</td>\n",
       "      <td>288</td>\n",
       "      <td>75</td>\n",
       "      <td>Miami</td>\n",
       "      <td>28</td>\n",
       "      <td>28.457305</td>\n",
       "      <td>6</td>\n",
       "      <td>3</td>\n",
       "      <td>190.50</td>\n",
       "      <td>130.634603</td>\n",
       "      <td>35.993600</td>\n",
       "    </tr>\n",
       "    <tr>\n",
       "      <th>2</th>\n",
       "      <td>2017</td>\n",
       "      <td>2495493</td>\n",
       "      <td>Justin Houston</td>\n",
       "      <td>270</td>\n",
       "      <td>75</td>\n",
       "      <td>Georgia</td>\n",
       "      <td>28</td>\n",
       "      <td>28.629790</td>\n",
       "      <td>6</td>\n",
       "      <td>3</td>\n",
       "      <td>190.50</td>\n",
       "      <td>122.469940</td>\n",
       "      <td>33.744000</td>\n",
       "    </tr>\n",
       "    <tr>\n",
       "      <th>3</th>\n",
       "      <td>2017</td>\n",
       "      <td>2506353</td>\n",
       "      <td>Derrick Johnson</td>\n",
       "      <td>245</td>\n",
       "      <td>75</td>\n",
       "      <td>Texas</td>\n",
       "      <td>34</td>\n",
       "      <td>34.795430</td>\n",
       "      <td>6</td>\n",
       "      <td>3</td>\n",
       "      <td>190.50</td>\n",
       "      <td>111.130131</td>\n",
       "      <td>30.619556</td>\n",
       "    </tr>\n",
       "    <tr>\n",
       "      <th>4</th>\n",
       "      <td>2017</td>\n",
       "      <td>2530794</td>\n",
       "      <td>Ron Parker</td>\n",
       "      <td>206</td>\n",
       "      <td>72</td>\n",
       "      <td>Newberry</td>\n",
       "      <td>30</td>\n",
       "      <td>30.061685</td>\n",
       "      <td>6</td>\n",
       "      <td>0</td>\n",
       "      <td>182.88</td>\n",
       "      <td>93.440028</td>\n",
       "      <td>27.935571</td>\n",
       "    </tr>\n",
       "  </tbody>\n",
       "</table>\n",
       "</div>"
      ],
      "text/plain": [
       "   Season    NflId      DisplayName  PlayerWeight  PlayerHeight  \\\n",
       "0    2017   496723       Eric Berry           212            72   \n",
       "1    2017  2495116     Allen Bailey           288            75   \n",
       "2    2017  2495493   Justin Houston           270            75   \n",
       "3    2017  2506353  Derrick Johnson           245            75   \n",
       "4    2017  2530794       Ron Parker           206            72   \n",
       "\n",
       "  PlayerCollegeName  PlayerAge_int  PlayerAge  HeightFt  HeightIn  HeightCm  \\\n",
       "0         Tennessee             28  28.692760         6         0    182.88   \n",
       "1             Miami             28  28.457305         6         3    190.50   \n",
       "2           Georgia             28  28.629790         6         3    190.50   \n",
       "3             Texas             34  34.795430         6         3    190.50   \n",
       "4          Newberry             30  30.061685         6         0    182.88   \n",
       "\n",
       "     WeightKg  PlayerBMI  \n",
       "0   96.161582  28.749228  \n",
       "1  130.634603  35.993600  \n",
       "2  122.469940  33.744000  \n",
       "3  111.130131  30.619556  \n",
       "4   93.440028  27.935571  "
      ]
     },
     "execution_count": 30,
     "metadata": {},
     "output_type": "execute_result"
    }
   ],
   "source": [
    "df_player.head()"
   ]
  },
  {
   "cell_type": "code",
   "execution_count": 58,
   "metadata": {
    "ExecuteTime": {
     "end_time": "2019-12-04T20:04:19.730755Z",
     "start_time": "2019-12-04T20:04:19.715232Z"
    }
   },
   "outputs": [
    {
     "data": {
      "text/plain": [
       "509762"
      ]
     },
     "execution_count": 58,
     "metadata": {},
     "output_type": "execute_result"
    }
   ],
   "source": [
    "len(df_player)"
   ]
  },
  {
   "cell_type": "code",
   "execution_count": 63,
   "metadata": {
    "ExecuteTime": {
     "end_time": "2019-12-04T20:06:36.730470Z",
     "start_time": "2019-12-04T20:06:36.724884Z"
    }
   },
   "outputs": [
    {
     "data": {
      "text/plain": [
       "Index(['Season', 'NflId', 'DisplayName', 'PlayerWeight', 'PlayerHeight',\n",
       "       'PlayerCollegeName', 'PlayerAge_int', 'PlayerAge', 'HeightFt',\n",
       "       'HeightIn', 'HeightCm', 'WeightKg', 'PlayerBMI'],\n",
       "      dtype='object')"
      ]
     },
     "execution_count": 63,
     "metadata": {},
     "output_type": "execute_result"
    }
   ],
   "source": [
    "df_player.columns"
   ]
  },
  {
   "cell_type": "code",
   "execution_count": 69,
   "metadata": {
    "ExecuteTime": {
     "end_time": "2019-12-04T20:14:35.873778Z",
     "start_time": "2019-12-04T20:14:35.849270Z"
    }
   },
   "outputs": [
    {
     "data": {
      "text/plain": [
       "3571"
      ]
     },
     "execution_count": 69,
     "metadata": {},
     "output_type": "execute_result"
    }
   ],
   "source": [
    "df_player_un = df_player.drop_duplicates(subset=['Season', 'NflId'] ,keep='first')\n",
    "len(df_player_un)"
   ]
  },
  {
   "cell_type": "code",
   "execution_count": 70,
   "metadata": {
    "ExecuteTime": {
     "end_time": "2019-12-04T20:14:40.933673Z",
     "start_time": "2019-12-04T20:14:40.918968Z"
    }
   },
   "outputs": [
    {
     "data": {
      "text/html": [
       "<div>\n",
       "<style scoped>\n",
       "    .dataframe tbody tr th:only-of-type {\n",
       "        vertical-align: middle;\n",
       "    }\n",
       "\n",
       "    .dataframe tbody tr th {\n",
       "        vertical-align: top;\n",
       "    }\n",
       "\n",
       "    .dataframe thead th {\n",
       "        text-align: right;\n",
       "    }\n",
       "</style>\n",
       "<table border=\"1\" class=\"dataframe\">\n",
       "  <thead>\n",
       "    <tr style=\"text-align: right;\">\n",
       "      <th></th>\n",
       "      <th>Season</th>\n",
       "      <th>NflId</th>\n",
       "      <th>DisplayName</th>\n",
       "      <th>PlayerWeight</th>\n",
       "      <th>PlayerHeight</th>\n",
       "      <th>PlayerCollegeName</th>\n",
       "      <th>PlayerAge_int</th>\n",
       "      <th>PlayerAge</th>\n",
       "      <th>HeightFt</th>\n",
       "      <th>HeightIn</th>\n",
       "      <th>HeightCm</th>\n",
       "      <th>WeightKg</th>\n",
       "      <th>PlayerBMI</th>\n",
       "    </tr>\n",
       "  </thead>\n",
       "  <tbody>\n",
       "    <tr>\n",
       "      <th>0</th>\n",
       "      <td>2017</td>\n",
       "      <td>496723</td>\n",
       "      <td>Eric Berry</td>\n",
       "      <td>212</td>\n",
       "      <td>72</td>\n",
       "      <td>Tennessee</td>\n",
       "      <td>28</td>\n",
       "      <td>28.692760</td>\n",
       "      <td>6</td>\n",
       "      <td>0</td>\n",
       "      <td>182.88</td>\n",
       "      <td>96.161582</td>\n",
       "      <td>28.749228</td>\n",
       "    </tr>\n",
       "    <tr>\n",
       "      <th>1</th>\n",
       "      <td>2017</td>\n",
       "      <td>2495116</td>\n",
       "      <td>Allen Bailey</td>\n",
       "      <td>288</td>\n",
       "      <td>75</td>\n",
       "      <td>Miami</td>\n",
       "      <td>28</td>\n",
       "      <td>28.457305</td>\n",
       "      <td>6</td>\n",
       "      <td>3</td>\n",
       "      <td>190.50</td>\n",
       "      <td>130.634603</td>\n",
       "      <td>35.993600</td>\n",
       "    </tr>\n",
       "    <tr>\n",
       "      <th>2</th>\n",
       "      <td>2017</td>\n",
       "      <td>2495493</td>\n",
       "      <td>Justin Houston</td>\n",
       "      <td>270</td>\n",
       "      <td>75</td>\n",
       "      <td>Georgia</td>\n",
       "      <td>28</td>\n",
       "      <td>28.629790</td>\n",
       "      <td>6</td>\n",
       "      <td>3</td>\n",
       "      <td>190.50</td>\n",
       "      <td>122.469940</td>\n",
       "      <td>33.744000</td>\n",
       "    </tr>\n",
       "    <tr>\n",
       "      <th>3</th>\n",
       "      <td>2017</td>\n",
       "      <td>2506353</td>\n",
       "      <td>Derrick Johnson</td>\n",
       "      <td>245</td>\n",
       "      <td>75</td>\n",
       "      <td>Texas</td>\n",
       "      <td>34</td>\n",
       "      <td>34.795430</td>\n",
       "      <td>6</td>\n",
       "      <td>3</td>\n",
       "      <td>190.50</td>\n",
       "      <td>111.130131</td>\n",
       "      <td>30.619556</td>\n",
       "    </tr>\n",
       "    <tr>\n",
       "      <th>4</th>\n",
       "      <td>2017</td>\n",
       "      <td>2530794</td>\n",
       "      <td>Ron Parker</td>\n",
       "      <td>206</td>\n",
       "      <td>72</td>\n",
       "      <td>Newberry</td>\n",
       "      <td>30</td>\n",
       "      <td>30.061685</td>\n",
       "      <td>6</td>\n",
       "      <td>0</td>\n",
       "      <td>182.88</td>\n",
       "      <td>93.440028</td>\n",
       "      <td>27.935571</td>\n",
       "    </tr>\n",
       "  </tbody>\n",
       "</table>\n",
       "</div>"
      ],
      "text/plain": [
       "   Season    NflId      DisplayName  PlayerWeight  PlayerHeight  \\\n",
       "0    2017   496723       Eric Berry           212            72   \n",
       "1    2017  2495116     Allen Bailey           288            75   \n",
       "2    2017  2495493   Justin Houston           270            75   \n",
       "3    2017  2506353  Derrick Johnson           245            75   \n",
       "4    2017  2530794       Ron Parker           206            72   \n",
       "\n",
       "  PlayerCollegeName  PlayerAge_int  PlayerAge  HeightFt  HeightIn  HeightCm  \\\n",
       "0         Tennessee             28  28.692760         6         0    182.88   \n",
       "1             Miami             28  28.457305         6         3    190.50   \n",
       "2           Georgia             28  28.629790         6         3    190.50   \n",
       "3             Texas             34  34.795430         6         3    190.50   \n",
       "4          Newberry             30  30.061685         6         0    182.88   \n",
       "\n",
       "     WeightKg  PlayerBMI  \n",
       "0   96.161582  28.749228  \n",
       "1  130.634603  35.993600  \n",
       "2  122.469940  33.744000  \n",
       "3  111.130131  30.619556  \n",
       "4   93.440028  27.935571  "
      ]
     },
     "execution_count": 70,
     "metadata": {},
     "output_type": "execute_result"
    }
   ],
   "source": [
    "df_player_un.head()"
   ]
  },
  {
   "cell_type": "code",
   "execution_count": 80,
   "metadata": {
    "ExecuteTime": {
     "end_time": "2019-12-04T20:43:39.444958Z",
     "start_time": "2019-12-04T20:43:39.437899Z"
    }
   },
   "outputs": [],
   "source": [
    "id_2017 = list(df_player_un[df_player_un['Season']==2017]['NflId'])\n",
    "id_2018 = list(df_player_un[df_player_un['Season']==2018]['NflId'])"
   ]
  },
  {
   "cell_type": "code",
   "execution_count": 81,
   "metadata": {
    "ExecuteTime": {
     "end_time": "2019-12-04T20:47:38.059578Z",
     "start_time": "2019-12-04T20:47:38.055772Z"
    }
   },
   "outputs": [],
   "source": [
    "def categoryId(Id):\n",
    "    if (Id in id_2017) and (Id in id_2018):\n",
    "        return 'b'\n",
    "    elif (Id in id_2017) and (Id not in id_2018):\n",
    "        return '7'\n",
    "    else:\n",
    "        return '8'"
   ]
  },
  {
   "cell_type": "code",
   "execution_count": 82,
   "metadata": {
    "ExecuteTime": {
     "end_time": "2019-12-04T20:48:18.594224Z",
     "start_time": "2019-12-04T20:48:18.306179Z"
    }
   },
   "outputs": [
    {
     "name": "stderr",
     "output_type": "stream",
     "text": [
      "/Users/yizhuoli/anaconda3/lib/python3.6/site-packages/ipykernel_launcher.py:1: SettingWithCopyWarning: \n",
      "A value is trying to be set on a copy of a slice from a DataFrame.\n",
      "Try using .loc[row_indexer,col_indexer] = value instead\n",
      "\n",
      "See the caveats in the documentation: http://pandas.pydata.org/pandas-docs/stable/indexing.html#indexing-view-versus-copy\n",
      "  \"\"\"Entry point for launching an IPython kernel.\n"
     ]
    }
   ],
   "source": [
    "df_player_un['categoryId'] = df_player_un['NflId'].apply(categoryId)"
   ]
  },
  {
   "cell_type": "code",
   "execution_count": 87,
   "metadata": {
    "ExecuteTime": {
     "end_time": "2019-12-04T20:49:28.359342Z",
     "start_time": "2019-12-04T20:49:28.348122Z"
    }
   },
   "outputs": [
    {
     "data": {
      "text/plain": [
       "b    2680\n",
       "7     448\n",
       "8     443\n",
       "Name: categoryId, dtype: int64"
      ]
     },
     "execution_count": 87,
     "metadata": {},
     "output_type": "execute_result"
    }
   ],
   "source": [
    "df_player_un['categoryId'].value_counts()"
   ]
  },
  {
   "cell_type": "code",
   "execution_count": 88,
   "metadata": {
    "ExecuteTime": {
     "end_time": "2019-12-04T20:50:02.874523Z",
     "start_time": "2019-12-04T20:50:02.810006Z"
    }
   },
   "outputs": [],
   "source": [
    "df_player_un.to_csv('player.csv')"
   ]
  },
  {
   "cell_type": "markdown",
   "metadata": {},
   "source": [
    "## Time handoff and snap and Player BirthDate"
   ]
  },
  {
   "cell_type": "code",
   "execution_count": 16,
   "metadata": {
    "ExecuteTime": {
     "end_time": "2019-12-04T17:00:45.393887Z",
     "start_time": "2019-12-04T17:00:34.774509Z"
    }
   },
   "outputs": [],
   "source": [
    "train['TimeHandoff'] = train['TimeHandoff'].apply(lambda x: datetime.datetime.strptime(x, \"%Y-%m-%dT%H:%M:%S.%fZ\"))\n",
    "train['TimeSnap'] = train['TimeSnap'].apply(lambda x: datetime.datetime.strptime(x, \"%Y-%m-%dT%H:%M:%S.%fZ\"))"
   ]
  },
  {
   "cell_type": "code",
   "execution_count": 17,
   "metadata": {
    "ExecuteTime": {
     "end_time": "2019-12-04T17:01:09.387379Z",
     "start_time": "2019-12-04T17:00:46.128807Z"
    }
   },
   "outputs": [],
   "source": [
    "train['TimeDelta'] = train.apply(lambda row: (row['TimeHandoff'] - row['TimeSnap']).total_seconds(), axis=1)"
   ]
  },
  {
   "cell_type": "code",
   "execution_count": 18,
   "metadata": {
    "ExecuteTime": {
     "end_time": "2019-12-04T17:01:13.798763Z",
     "start_time": "2019-12-04T17:01:10.064474Z"
    }
   },
   "outputs": [],
   "source": [
    "train['PlayerBirthDate'] = train['PlayerBirthDate'].apply(lambda x: datetime.datetime.strptime(x, \"%m/%d/%Y\"))"
   ]
  },
  {
   "cell_type": "code",
   "execution_count": 19,
   "metadata": {
    "ExecuteTime": {
     "end_time": "2019-12-04T17:01:39.448931Z",
     "start_time": "2019-12-04T17:01:14.488162Z"
    }
   },
   "outputs": [],
   "source": [
    "seconds_in_year = 60*60*24*365.25\n",
    "train['PlayerAge'] = train.apply(lambda row: (row['TimeHandoff']-row['PlayerBirthDate']).total_seconds()/seconds_in_year, axis=1)"
   ]
  },
  {
   "cell_type": "code",
   "execution_count": 20,
   "metadata": {
    "ExecuteTime": {
     "end_time": "2019-12-04T17:01:40.407529Z",
     "start_time": "2019-12-04T17:01:40.130380Z"
    }
   },
   "outputs": [],
   "source": [
    "train['PlayerAge_int'] = train['PlayerAge'].apply(np.int64)"
   ]
  },
  {
   "cell_type": "code",
   "execution_count": 21,
   "metadata": {
    "ExecuteTime": {
     "end_time": "2019-12-04T17:01:41.290228Z",
     "start_time": "2019-12-04T17:01:41.076384Z"
    }
   },
   "outputs": [],
   "source": [
    "train = train.drop(['TimeHandoff', 'TimeSnap', 'PlayerBirthDate'], axis=1)"
   ]
  },
  {
   "cell_type": "markdown",
   "metadata": {},
   "source": [
    "## Wind Speed and Direction"
   ]
  },
  {
   "cell_type": "code",
   "execution_count": 32,
   "metadata": {
    "ExecuteTime": {
     "end_time": "2019-12-04T17:06:25.074463Z",
     "start_time": "2019-12-04T17:06:24.711668Z"
    }
   },
   "outputs": [],
   "source": [
    "train['WindSpeed'] = train['WindSpeed'].apply(lambda x: x.lower().replace('mph', '').strip() if not pd.isna(x) else x)"
   ]
  },
  {
   "cell_type": "code",
   "execution_count": 33,
   "metadata": {
    "ExecuteTime": {
     "end_time": "2019-12-04T17:06:26.387040Z",
     "start_time": "2019-12-04T17:06:25.864270Z"
    }
   },
   "outputs": [],
   "source": [
    "#let's replace the ones that has x-y by (x+y)/2\n",
    "# and also the ones with x gusts up to y\n",
    "train['WindSpeed'] = train['WindSpeed'].apply(lambda x: (int(x.split('-')[0])+int(x.split('-')[1]))/2 if not pd.isna(x) and '-' in x else x)\n",
    "train['WindSpeed'] = train['WindSpeed'].apply(lambda x: (int(x.split()[0])+int(x.split()[-1]))/2 if not pd.isna(x) and type(x)!=float and 'gusts up to' in x else x)"
   ]
  },
  {
   "cell_type": "code",
   "execution_count": 34,
   "metadata": {
    "ExecuteTime": {
     "end_time": "2019-12-04T17:06:27.103231Z",
     "start_time": "2019-12-04T17:06:27.100294Z"
    }
   },
   "outputs": [],
   "source": [
    "def str_to_float(txt):\n",
    "    try:\n",
    "        return float(txt)\n",
    "    except:\n",
    "        return -1"
   ]
  },
  {
   "cell_type": "code",
   "execution_count": 35,
   "metadata": {
    "ExecuteTime": {
     "end_time": "2019-12-04T17:06:28.177594Z",
     "start_time": "2019-12-04T17:06:27.802281Z"
    }
   },
   "outputs": [],
   "source": [
    "train['WindSpeed'] = train['WindSpeed'].apply(str_to_float)"
   ]
  },
  {
   "cell_type": "code",
   "execution_count": 36,
   "metadata": {
    "ExecuteTime": {
     "end_time": "2019-12-04T17:06:28.991925Z",
     "start_time": "2019-12-04T17:06:28.979987Z"
    }
   },
   "outputs": [
    {
     "data": {
      "text/plain": [
       " 5.0     53284\n",
       " 6.0     42614\n",
       " 7.0     40678\n",
       " 4.0     35486\n",
       " 10.0    31592\n",
       " 9.0     31328\n",
       " 8.0     29370\n",
       " 3.0     26862\n",
       " 12.0    24552\n",
       " 2.0     24112\n",
       " 11.0    17116\n",
       " 15.0    15026\n",
       " 0.0     13772\n",
       " 1.0     12078\n",
       " 13.0    10208\n",
       " 16.0     9878\n",
       " 14.0     6820\n",
       " 17.0     4928\n",
       "-1.0      4202\n",
       " 18.0     1980\n",
       " 20.0     1848\n",
       " 23.0     1166\n",
       " 24.0      968\n",
       " 18.5      968\n",
       " 22.0      836\n",
       " 19.0      660\n",
       "Name: WindSpeed, dtype: int64"
      ]
     },
     "execution_count": 36,
     "metadata": {},
     "output_type": "execute_result"
    }
   ],
   "source": [
    "train['WindSpeed'].value_counts()"
   ]
  },
  {
   "cell_type": "code",
   "execution_count": 37,
   "metadata": {
    "ExecuteTime": {
     "end_time": "2019-12-04T17:06:29.707430Z",
     "start_time": "2019-12-04T17:06:29.702628Z"
    }
   },
   "outputs": [],
   "source": [
    "def clean_WindDirection(txt):\n",
    "    if pd.isna(txt):\n",
    "        return np.nan\n",
    "    txt = txt.lower()\n",
    "    txt = ''.join([c for c in txt if c not in punctuation])\n",
    "    txt = txt.replace('from', '')\n",
    "    txt = txt.replace(' ', '')\n",
    "    txt = txt.replace('north', 'n')\n",
    "    txt = txt.replace('south', 's')\n",
    "    txt = txt.replace('west', 'w')\n",
    "    txt = txt.replace('east', 'e')\n",
    "    return txt"
   ]
  },
  {
   "cell_type": "code",
   "execution_count": 38,
   "metadata": {
    "ExecuteTime": {
     "end_time": "2019-12-04T17:06:31.224603Z",
     "start_time": "2019-12-04T17:06:30.432579Z"
    }
   },
   "outputs": [],
   "source": [
    "train['WindDirection'] = train['WindDirection'].apply(clean_WindDirection)"
   ]
  },
  {
   "cell_type": "code",
   "execution_count": 39,
   "metadata": {
    "ExecuteTime": {
     "end_time": "2019-12-04T17:06:32.011298Z",
     "start_time": "2019-12-04T17:06:32.003497Z"
    }
   },
   "outputs": [],
   "source": [
    "def transform_WindDirection(txt):\n",
    "    if pd.isna(txt):\n",
    "        return np.nan\n",
    "    \n",
    "    if txt=='n':\n",
    "        return 0\n",
    "    if txt=='nne' or txt=='nen':\n",
    "        return 1/8\n",
    "    if txt=='ne':\n",
    "        return 2/8\n",
    "    if txt=='ene' or txt=='nee':\n",
    "        return 3/8\n",
    "    if txt=='e':\n",
    "        return 4/8\n",
    "    if txt=='ese' or txt=='see':\n",
    "        return 5/8\n",
    "    if txt=='se':\n",
    "        return 6/8\n",
    "    if txt=='ses' or txt=='sse':\n",
    "        return 7/8\n",
    "    if txt=='s':\n",
    "        return 8/8\n",
    "    if txt=='ssw' or txt=='sws':\n",
    "        return 9/8\n",
    "    if txt=='sw':\n",
    "        return 10/8\n",
    "    if txt=='sww' or txt=='wsw':\n",
    "        return 11/8\n",
    "    if txt=='w':\n",
    "        return 12/8\n",
    "    if txt=='wnw' or txt=='nww':\n",
    "        return 13/8\n",
    "    if txt=='nw':\n",
    "        return 14/8\n",
    "    if txt=='nwn' or txt=='nnw':\n",
    "        return 15/8\n",
    "    return np.nan"
   ]
  },
  {
   "cell_type": "code",
   "execution_count": 40,
   "metadata": {
    "ExecuteTime": {
     "end_time": "2019-12-04T17:06:33.274467Z",
     "start_time": "2019-12-04T17:06:32.748198Z"
    }
   },
   "outputs": [],
   "source": [
    "train['WindDirection'] = train['WindDirection'].apply(transform_WindDirection)"
   ]
  },
  {
   "cell_type": "code",
   "execution_count": 41,
   "metadata": {
    "ExecuteTime": {
     "end_time": "2019-12-04T17:06:34.041823Z",
     "start_time": "2019-12-04T17:06:34.029291Z"
    }
   },
   "outputs": [
    {
     "data": {
      "text/plain": [
       "1.000    47586\n",
       "0.000    40370\n",
       "0.250    38214\n",
       "1.500    37532\n",
       "1.250    33638\n",
       "1.750    31306\n",
       "0.750    27720\n",
       "1.375    27522\n",
       "0.125    22374\n",
       "1.625    21978\n",
       "1.125    21736\n",
       "0.500    21076\n",
       "1.875    15928\n",
       "0.875    15202\n",
       "0.625    11638\n",
       "0.375    11550\n",
       "Name: WindDirection, dtype: int64"
      ]
     },
     "execution_count": 41,
     "metadata": {},
     "output_type": "execute_result"
    }
   ],
   "source": [
    "train['WindDirection'].value_counts()"
   ]
  },
  {
   "cell_type": "markdown",
   "metadata": {},
   "source": [
    "## Whether"
   ]
  },
  {
   "cell_type": "code",
   "execution_count": 42,
   "metadata": {
    "ExecuteTime": {
     "end_time": "2019-12-04T17:06:34.774435Z",
     "start_time": "2019-12-04T17:06:34.751539Z"
    }
   },
   "outputs": [
    {
     "data": {
      "text/plain": [
       "array(['Clear and warm', 'Sun & clouds', 'Sunny', 'Controlled Climate',\n",
       "       'Mostly Sunny', 'Clear', nan, 'Indoor', 'Mostly Cloudy',\n",
       "       'Mostly Coudy', 'Partly sunny', 'Partly Cloudy', 'Cloudy',\n",
       "       'Sunny, highs to upper 80s', 'Indoors', 'Light Rain', 'Showers',\n",
       "       'Partly cloudy', 'Partly Sunny', '30% Chance of Rain',\n",
       "       'Cloudy with periods of rain, thunder possible. Winds shifting to WNW, 10-20 mph.',\n",
       "       'Rain', 'Cloudy, fog started developing in 2nd quarter', 'Coudy',\n",
       "       'Rain likely, temps in low 40s.', 'Cold', 'N/A (Indoors)',\n",
       "       'Clear skies', 'cloudy', 'Fair', 'Mostly cloudy',\n",
       "       'Cloudy, chance of rain', 'Heavy lake effect snow', 'Party Cloudy',\n",
       "       'Cloudy, light snow accumulating 1-3\"', 'Cloudy and cold', 'Snow',\n",
       "       'Hazy', 'Scattered Showers', 'Cloudy and Cool', 'N/A Indoor',\n",
       "       'Rain Chance 40%', 'Clear and sunny', 'Mostly sunny',\n",
       "       'Sunny and warm', 'Partly clear', 'Cloudy, 50% change of rain',\n",
       "       'Clear and Sunny', 'Sunny, Windy', 'Clear and Cool',\n",
       "       'Sunny and clear', 'Mostly Sunny Skies', 'Partly Clouidy',\n",
       "       'Clear Skies', 'Sunny Skies', 'Overcast',\n",
       "       'T: 51; H: 55; W: NW 10 mph', 'Cloudy, Rain', 'Rain shower',\n",
       "       'Clear and cold', 'Rainy', 'Sunny and cold'], dtype=object)"
      ]
     },
     "execution_count": 42,
     "metadata": {},
     "output_type": "execute_result"
    }
   ],
   "source": [
    "train['GameWeather'].unique()"
   ]
  },
  {
   "cell_type": "code",
   "execution_count": 43,
   "metadata": {
    "ExecuteTime": {
     "end_time": "2019-12-04T17:06:36.955756Z",
     "start_time": "2019-12-04T17:06:35.484829Z"
    }
   },
   "outputs": [],
   "source": [
    "train['GameWeather'] = train['GameWeather'].str.lower()\n",
    "indoor = \"indoor\"\n",
    "train['GameWeather'] = train['GameWeather'].apply(lambda x: indoor if not pd.isna(x) and indoor in x else x)\n",
    "train['GameWeather'] = train['GameWeather'].apply(lambda x: x.replace('coudy', 'cloudy').replace('clouidy', 'cloudy').replace('party', 'partly') if not pd.isna(x) else x)\n",
    "train['GameWeather'] = train['GameWeather'].apply(lambda x: x.replace('clear and sunny', 'sunny and clear') if not pd.isna(x) else x)\n",
    "train['GameWeather'] = train['GameWeather'].apply(lambda x: x.replace('skies', '').replace(\"mostly\", \"\").strip() if not pd.isna(x) else x)"
   ]
  },
  {
   "cell_type": "code",
   "execution_count": 44,
   "metadata": {
    "ExecuteTime": {
     "end_time": "2019-12-04T17:06:38.350400Z",
     "start_time": "2019-12-04T17:06:37.796254Z"
    }
   },
   "outputs": [
    {
     "data": {
      "text/plain": [
       "[('cloudy', 193952),\n",
       " ('sunny', 127468),\n",
       " ('partly', 58256),\n",
       " ('clear', 55594),\n",
       " ('rain', 28952),\n",
       " ('indoor', 26950),\n",
       " ('controlled', 12540),\n",
       " ('climate', 12540),\n",
       " ('and', 10956),\n",
       " ('cloudy,', 4972),\n",
       " ('fair', 4972),\n",
       " ('snow', 4708),\n",
       " ('cold', 4510),\n",
       " ('of', 4026),\n",
       " ('light', 3608)]"
      ]
     },
     "execution_count": 44,
     "metadata": {},
     "output_type": "execute_result"
    }
   ],
   "source": [
    "from collections import Counter\n",
    "weather_count = Counter()\n",
    "for weather in train['GameWeather']:\n",
    "    if pd.isna(weather):\n",
    "        continue\n",
    "    for word in weather.split():\n",
    "        weather_count[word]+=1\n",
    "        \n",
    "weather_count.most_common()[:15]"
   ]
  },
  {
   "cell_type": "code",
   "execution_count": 45,
   "metadata": {
    "ExecuteTime": {
     "end_time": "2019-12-04T17:06:39.188963Z",
     "start_time": "2019-12-04T17:06:39.184288Z"
    }
   },
   "outputs": [],
   "source": [
    "def map_weather(txt):\n",
    "    ans = 1\n",
    "    if pd.isna(txt):\n",
    "        return 0\n",
    "    if 'partly' in txt:\n",
    "        ans*=0.5\n",
    "    if 'climate controlled' in txt or 'indoor' in txt:\n",
    "        return ans*3\n",
    "    if 'sunny' in txt or 'sun' in txt:\n",
    "        return ans*2\n",
    "    if 'clear' in txt:\n",
    "        return ans\n",
    "    if 'cloudy' in txt:\n",
    "        return -ans\n",
    "    if 'rain' in txt or 'rainy' in txt:\n",
    "        return -2*ans\n",
    "    if 'snow' in txt:\n",
    "        return -3*ans\n",
    "    return 0"
   ]
  },
  {
   "cell_type": "code",
   "execution_count": 46,
   "metadata": {
    "ExecuteTime": {
     "end_time": "2019-12-04T17:06:40.558161Z",
     "start_time": "2019-12-04T17:06:40.041013Z"
    }
   },
   "outputs": [],
   "source": [
    "train['GameWeather'] = train['GameWeather'].apply(map_weather)"
   ]
  },
  {
   "cell_type": "code",
   "execution_count": 47,
   "metadata": {
    "ExecuteTime": {
     "end_time": "2019-12-04T17:06:41.257418Z",
     "start_time": "2019-12-04T17:06:41.244405Z"
    }
   },
   "outputs": [
    {
     "data": {
      "text/plain": [
       "-1.0    148962\n",
       " 2.0    122804\n",
       " 0.0     70488\n",
       " 1.0     59334\n",
       "-0.5     49962\n",
       " 3.0     26950\n",
       "-2.0     26620\n",
       "-3.0      3872\n",
       " 0.5       770\n",
       "Name: GameWeather, dtype: int64"
      ]
     },
     "execution_count": 47,
     "metadata": {},
     "output_type": "execute_result"
    }
   ],
   "source": [
    "train['GameWeather'].value_counts()"
   ]
  },
  {
   "cell_type": "markdown",
   "metadata": {},
   "source": [
    "## X, orientation and direction"
   ]
  },
  {
   "cell_type": "code",
   "execution_count": 48,
   "metadata": {
    "ExecuteTime": {
     "end_time": "2019-12-04T17:06:52.653311Z",
     "start_time": "2019-12-04T17:06:41.951467Z"
    }
   },
   "outputs": [],
   "source": [
    "train['X'] = train.apply(lambda row: row['X'] if row['PlayDirection'] else 120-row['X'], axis=1)"
   ]
  },
  {
   "cell_type": "code",
   "execution_count": 49,
   "metadata": {
    "ExecuteTime": {
     "end_time": "2019-12-04T17:07:14.169849Z",
     "start_time": "2019-12-04T17:06:53.278742Z"
    }
   },
   "outputs": [],
   "source": [
    "#from https://www.kaggle.com/scirpus/hybrid-gp-and-nn\n",
    "def new_orientation(angle, play_direction):\n",
    "    if play_direction == 0:\n",
    "        new_angle = 360.0 - angle\n",
    "        if new_angle == 360.0:\n",
    "            new_angle = 0.0\n",
    "        return new_angle\n",
    "    else:\n",
    "        return angle\n",
    "    \n",
    "train['Orientation'] = train.apply(lambda row: new_orientation(row['Orientation'], row['PlayDirection']), axis=1)\n",
    "train['Dir'] = train.apply(lambda row: new_orientation(row['Dir'], row['PlayDirection']), axis=1)"
   ]
  },
  {
   "cell_type": "markdown",
   "metadata": {},
   "source": [
    "## location"
   ]
  },
  {
   "cell_type": "code",
   "execution_count": 50,
   "metadata": {
    "ExecuteTime": {
     "end_time": "2019-12-04T17:11:55.132158Z",
     "start_time": "2019-12-04T17:11:52.148066Z"
    }
   },
   "outputs": [],
   "source": [
    "train[\"State\"] = train[\"Location\"].str.split(', ', expand=True)[0]\n",
    "train[\"StateAbb\"] = train[\"Location\"].str.split(', ', expand=True)[1]"
   ]
  },
  {
   "cell_type": "code",
   "execution_count": 52,
   "metadata": {
    "ExecuteTime": {
     "end_time": "2019-12-04T17:12:32.862620Z",
     "start_time": "2019-12-04T17:12:32.815782Z"
    }
   },
   "outputs": [
    {
     "data": {
      "text/html": [
       "<div>\n",
       "<style scoped>\n",
       "    .dataframe tbody tr th:only-of-type {\n",
       "        vertical-align: middle;\n",
       "    }\n",
       "\n",
       "    .dataframe tbody tr th {\n",
       "        vertical-align: top;\n",
       "    }\n",
       "\n",
       "    .dataframe thead th {\n",
       "        text-align: right;\n",
       "    }\n",
       "</style>\n",
       "<table border=\"1\" class=\"dataframe\">\n",
       "  <thead>\n",
       "    <tr style=\"text-align: right;\">\n",
       "      <th></th>\n",
       "      <th>Location</th>\n",
       "      <th>State</th>\n",
       "      <th>StateAbb</th>\n",
       "    </tr>\n",
       "  </thead>\n",
       "  <tbody>\n",
       "    <tr>\n",
       "      <th>192393</th>\n",
       "      <td>Glendale, AZ</td>\n",
       "      <td>Glendale</td>\n",
       "      <td>AZ</td>\n",
       "    </tr>\n",
       "    <tr>\n",
       "      <th>121670</th>\n",
       "      <td>Kansas City, MO</td>\n",
       "      <td>Kansas City</td>\n",
       "      <td>MO</td>\n",
       "    </tr>\n",
       "    <tr>\n",
       "      <th>72202</th>\n",
       "      <td>Pittsburgh</td>\n",
       "      <td>Pittsburgh</td>\n",
       "      <td>None</td>\n",
       "    </tr>\n",
       "    <tr>\n",
       "      <th>106488</th>\n",
       "      <td>East Rutherford, NJ</td>\n",
       "      <td>East Rutherford</td>\n",
       "      <td>NJ</td>\n",
       "    </tr>\n",
       "    <tr>\n",
       "      <th>291660</th>\n",
       "      <td>Chicago, IL</td>\n",
       "      <td>Chicago</td>\n",
       "      <td>IL</td>\n",
       "    </tr>\n",
       "  </tbody>\n",
       "</table>\n",
       "</div>"
      ],
      "text/plain": [
       "                   Location            State StateAbb\n",
       "192393         Glendale, AZ         Glendale       AZ\n",
       "121670      Kansas City, MO      Kansas City       MO\n",
       "72202            Pittsburgh       Pittsburgh     None\n",
       "106488  East Rutherford, NJ  East Rutherford       NJ\n",
       "291660          Chicago, IL          Chicago       IL"
      ]
     },
     "execution_count": 52,
     "metadata": {},
     "output_type": "execute_result"
    }
   ],
   "source": [
    "train[['Location', 'State', 'StateAbb']].sample(5)"
   ]
  },
  {
   "cell_type": "code",
   "execution_count": 53,
   "metadata": {
    "ExecuteTime": {
     "end_time": "2019-12-04T17:12:38.971108Z",
     "start_time": "2019-12-04T17:12:38.966837Z"
    }
   },
   "outputs": [
    {
     "data": {
      "text/plain": [
       "509762"
      ]
     },
     "execution_count": 53,
     "metadata": {},
     "output_type": "execute_result"
    }
   ],
   "source": [
    "len(train)"
   ]
  },
  {
   "cell_type": "markdown",
   "metadata": {},
   "source": [
    "## output"
   ]
  },
  {
   "cell_type": "code",
   "execution_count": 56,
   "metadata": {
    "ExecuteTime": {
     "end_time": "2019-12-04T17:20:33.626691Z",
     "start_time": "2019-12-04T17:20:33.419576Z"
    }
   },
   "outputs": [
    {
     "data": {
      "text/plain": [
       "512"
      ]
     },
     "execution_count": 56,
     "metadata": {},
     "output_type": "execute_result"
    }
   ],
   "source": [
    "game = train[['Season','GameId','Stadium','StadiumType','Turf', 'State', 'StateAbb']].drop_duplicates()\n",
    "len(game)"
   ]
  },
  {
   "cell_type": "code",
   "execution_count": 57,
   "metadata": {
    "ExecuteTime": {
     "end_time": "2019-12-04T17:20:45.826422Z",
     "start_time": "2019-12-04T17:20:45.818148Z"
    }
   },
   "outputs": [],
   "source": [
    "game.to_csv('game.csv')"
   ]
  },
  {
   "cell_type": "code",
   "execution_count": 89,
   "metadata": {
    "ExecuteTime": {
     "end_time": "2019-12-04T21:26:18.759875Z",
     "start_time": "2019-12-04T21:26:18.587606Z"
    }
   },
   "outputs": [
    {
     "data": {
      "text/plain": [
       "23171"
      ]
     },
     "execution_count": 89,
     "metadata": {},
     "output_type": "execute_result"
    }
   ],
   "source": [
    "tf = train.query(\"NflIdRusher == NflId\")\n",
    "\n",
    "tf = tf[['Down','Yards','Quarter', 'DefendersInTheBox']]\n",
    "len(tf)"
   ]
  },
  {
   "cell_type": "code",
   "execution_count": 90,
   "metadata": {
    "ExecuteTime": {
     "end_time": "2019-12-04T21:26:36.201183Z",
     "start_time": "2019-12-04T21:26:36.087409Z"
    }
   },
   "outputs": [],
   "source": [
    "tf.to_csv('Performance.csv')"
   ]
  },
  {
   "cell_type": "code",
   "execution_count": null,
   "metadata": {},
   "outputs": [],
   "source": []
  }
 ],
 "metadata": {
  "kernelspec": {
   "display_name": "Python 3",
   "language": "python",
   "name": "python3"
  },
  "language_info": {
   "codemirror_mode": {
    "name": "ipython",
    "version": 3
   },
   "file_extension": ".py",
   "mimetype": "text/x-python",
   "name": "python",
   "nbconvert_exporter": "python",
   "pygments_lexer": "ipython3",
   "version": "3.6.8"
  },
  "toc": {
   "base_numbering": 1,
   "nav_menu": {},
   "number_sections": true,
   "sideBar": true,
   "skip_h1_title": false,
   "title_cell": "Table of Contents",
   "title_sidebar": "Contents",
   "toc_cell": false,
   "toc_position": {},
   "toc_section_display": true,
   "toc_window_display": false
  },
  "varInspector": {
   "cols": {
    "lenName": 16,
    "lenType": 16,
    "lenVar": 40
   },
   "kernels_config": {
    "python": {
     "delete_cmd_postfix": "",
     "delete_cmd_prefix": "del ",
     "library": "var_list.py",
     "varRefreshCmd": "print(var_dic_list())"
    },
    "r": {
     "delete_cmd_postfix": ") ",
     "delete_cmd_prefix": "rm(",
     "library": "var_list.r",
     "varRefreshCmd": "cat(var_dic_list()) "
    }
   },
   "types_to_exclude": [
    "module",
    "function",
    "builtin_function_or_method",
    "instance",
    "_Feature"
   ],
   "window_display": false
  }
 },
 "nbformat": 4,
 "nbformat_minor": 2
}
